{
 "cells": [
  {
   "cell_type": "code",
   "execution_count": 10,
   "id": "af2b570d",
   "metadata": {},
   "outputs": [],
   "source": [
    "import cv2\n",
    "import sys\n",
    "import os\n",
    "import numpy as np\n",
    "from sys import platform\n",
    "import argparse\n",
    "import matplotlib.pyplot as plt\n",
    "import pyopenpose as op\n",
    "from IPython.display import clear_output as clear\n",
    "path = 'D:/BaiduNetdiskDownload/openpose1/pic/'\n",
    "vc = cv2.VideoCapture(\"D:/BaiduNetdiskDownload/openpose1/examples/media/3.20.mp4\")  # 读入视频文件，命名cv\n",
    "n = 1  # 计数\n",
    "if vc.isOpened():  # 判断是否正常打开\n",
    "    rval, frame = vc.read()\n",
    "else:\n",
    "    rval = False\n",
    "\n",
    "timeF = 10  # 视频帧计数间隔频率\n",
    "i = 0\n",
    "data_pose = []\n",
    "data_type = []\n",
    "def clear_output():\n",
    "    \"\"\"\n",
    "    clear output for both jupyter notebook and the console\n",
    "    \"\"\"\n",
    "    os.system('cls' if os.name == 'nt' else 'clear')\n",
    "    clear()"
   ]
  },
  {
   "cell_type": "code",
   "execution_count": 11,
   "id": "c99152e1",
   "metadata": {},
   "outputs": [],
   "source": [
    "params = dict()\n",
    "params[\"model_folder\"] = \"D:\\\\openpose\\\\models\\\\\"\n",
    "# Starting OpenPose\n",
    "opWrapper = op.WrapperPython()\n",
    "opWrapper.configure(params)\n",
    "opWrapper.start()"
   ]
  },
  {
   "cell_type": "code",
   "execution_count": 12,
   "id": "db0264f3",
   "metadata": {},
   "outputs": [],
   "source": [
    "while rval:  # 循环读取视频帧\n",
    "    rval, frame = vc.read()\n",
    "    if (n % timeF == 0):  # 每隔timeF帧进行存储操作\n",
    "        i += 1\n",
    "        print('第', i, '张','     1:正常 2:转头 3:转身 4:传递 5:睡觉')\n",
    "\n",
    "        # Process Image\n",
    "        datum = op.Datum()\n",
    "        imageToProcess = frame\n",
    "        datum.cvInputData = imageToProcess\n",
    "        opWrapper.emplaceAndPop(op.VectorDatum([datum]))\n",
    "        plt.imshow(datum.cvOutputData)\n",
    "        plt.show()\n",
    "        print('当前人数（', datum.poseKeypoints.shape[0], '）:')\n",
    "        type_pose = int(input())\n",
    "        clear_output() # 清除输出\n",
    "        if (type_pose == -2):\n",
    "            break\n",
    "        if(type_pose != -1):\n",
    "            data_pose.append(datum.poseKeypoints[:, :, :2])\n",
    "            for j in range(datum.poseKeypoints.shape[0]):\n",
    "                data_type.append(type_pose)\n",
    "\n",
    "        ##print(data)\n",
    "        ##cv2.imwrite(\"D:/BaiduNetdiskDownload/openpose1/pic/image{}.jpg\".format(i), frame)  # 存储为图像\n",
    "\n",
    "    n = n + 1\n",
    "    cv2.waitKey(1)"
   ]
  },
  {
   "cell_type": "code",
   "execution_count": 9,
   "id": "27a968f2",
   "metadata": {},
   "outputs": [
    {
     "ename": "ValueError",
     "evalue": "need at least one array to concatenate",
     "output_type": "error",
     "traceback": [
      "\u001b[1;31m---------------------------------------------------------------------------\u001b[0m",
      "\u001b[1;31mValueError\u001b[0m                                Traceback (most recent call last)",
      "\u001b[1;32m~\\AppData\\Local\\Temp\\ipykernel_17192\\867035002.py\u001b[0m in \u001b[0;36m<module>\u001b[1;34m\u001b[0m\n\u001b[1;32m----> 1\u001b[1;33m \u001b[0mnew_pose\u001b[0m \u001b[1;33m=\u001b[0m \u001b[0mnp\u001b[0m\u001b[1;33m.\u001b[0m\u001b[0mconcatenate\u001b[0m\u001b[1;33m(\u001b[0m\u001b[0mtuple\u001b[0m\u001b[1;33m(\u001b[0m\u001b[0mdata_pose\u001b[0m\u001b[1;33m)\u001b[0m\u001b[1;33m,\u001b[0m \u001b[0maxis\u001b[0m\u001b[1;33m=\u001b[0m\u001b[1;36m0\u001b[0m\u001b[1;33m)\u001b[0m\u001b[1;33m\u001b[0m\u001b[0m\n\u001b[0m\u001b[0;32m      2\u001b[0m \u001b[0mnew_type\u001b[0m \u001b[1;33m=\u001b[0m \u001b[0mnp\u001b[0m\u001b[1;33m.\u001b[0m\u001b[0marray\u001b[0m\u001b[1;33m(\u001b[0m\u001b[0mdata_type\u001b[0m\u001b[1;33m)\u001b[0m\u001b[1;33m\u001b[0m\u001b[0m\n\u001b[0;32m      3\u001b[0m \u001b[1;32mtry\u001b[0m\u001b[1;33m:\u001b[0m\u001b[1;33m\u001b[0m\u001b[0m\n\u001b[0;32m      4\u001b[0m     \u001b[0mold_pose\u001b[0m \u001b[1;33m=\u001b[0m \u001b[0mnp\u001b[0m\u001b[1;33m.\u001b[0m\u001b[0mload\u001b[0m\u001b[1;33m(\u001b[0m\u001b[0mpath\u001b[0m \u001b[1;33m+\u001b[0m \u001b[1;34m'data_pose.npy'\u001b[0m\u001b[1;33m)\u001b[0m\u001b[1;33m\u001b[0m\u001b[0m\n\u001b[0;32m      5\u001b[0m     \u001b[0mold_type\u001b[0m \u001b[1;33m=\u001b[0m \u001b[0mnp\u001b[0m\u001b[1;33m.\u001b[0m\u001b[0mload\u001b[0m\u001b[1;33m(\u001b[0m\u001b[0mpath\u001b[0m \u001b[1;33m+\u001b[0m \u001b[1;34m'data_type.npy'\u001b[0m\u001b[1;33m)\u001b[0m\u001b[1;33m\u001b[0m\u001b[0m\n",
      "\u001b[1;32m<__array_function__ internals>\u001b[0m in \u001b[0;36mconcatenate\u001b[1;34m(*args, **kwargs)\u001b[0m\n",
      "\u001b[1;31mValueError\u001b[0m: need at least one array to concatenate"
     ]
    }
   ],
   "source": [
    "new_pose = np.concatenate(tuple(data_pose), axis=0)\n",
    "new_type = np.array(data_type)\n",
    "try:\n",
    "    old_pose = np.load(path + 'data_pose.npy')\n",
    "    old_type = np.load(path + 'data_type.npy')\n",
    "    data_pose = np.append(old_pose, new_pose, axis=0)\n",
    "    data_type = np.append(old_type, new_type, axis=0)\n",
    "except:\n",
    "    data_pose = new_pose\n",
    "    data_type = new_type\n",
    "\n",
    "\n",
    "np.save(path + 'data_pose', data_pose)\n",
    "np.save(path + 'data_type', data_type)\n",
    "print(data_type.shape, data_pose.shape)\n",
    "vc.release()"
   ]
  },
  {
   "cell_type": "code",
   "execution_count": null,
   "id": "d290e5cc",
   "metadata": {},
   "outputs": [],
   "source": []
  }
 ],
 "metadata": {
  "kernelspec": {
   "display_name": "Python 3 (ipykernel)",
   "language": "python",
   "name": "python3"
  },
  "language_info": {
   "codemirror_mode": {
    "name": "ipython",
    "version": 3
   },
   "file_extension": ".py",
   "mimetype": "text/x-python",
   "name": "python",
   "nbconvert_exporter": "python",
   "pygments_lexer": "ipython3",
   "version": "3.7.0"
  }
 },
 "nbformat": 4,
 "nbformat_minor": 5
}
